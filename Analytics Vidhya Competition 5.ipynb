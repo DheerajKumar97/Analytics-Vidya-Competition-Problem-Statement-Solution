{
 "cells": [
  {
   "cell_type": "markdown",
   "metadata": {},
   "source": [
    "### Connect With Me in Linkedin :- https://www.linkedin.com/in/dheerajkumar1997/"
   ]
  },
  {
   "cell_type": "markdown",
   "metadata": {},
   "source": [
    "# Import Libraries"
   ]
  },
  {
   "cell_type": "code",
   "execution_count": 1,
   "metadata": {},
   "outputs": [],
   "source": [
    "import numpy as np\n",
    "import pandas as pd\n",
    "import matplotlib.pyplot as plt\n",
    "import seaborn as sns\n",
    "import warnings\n",
    "warnings.filterwarnings(\"ignore\")"
   ]
  },
  {
   "cell_type": "markdown",
   "metadata": {},
   "source": [
    "# Import Data"
   ]
  },
  {
   "cell_type": "code",
   "execution_count": 46,
   "metadata": {},
   "outputs": [],
   "source": [
    "df = pd.read_csv(\"E:\\Downlload\\Mobility_Train.csv\")\n",
    "df1 = pd.read_csv(\"E:\\Downlload\\Mobility_Test.csv\")"
   ]
  },
  {
   "cell_type": "markdown",
   "metadata": {},
   "source": [
    "# Data Visualization"
   ]
  },
  {
   "cell_type": "code",
   "execution_count": 16,
   "metadata": {},
   "outputs": [
    {
     "data": {
      "image/png": "[encoded data removed]",
      "text/plain": [
       "<Figure size 432x288 with 1 Axes>"
      ]
     },
     "metadata": {
      "needs_background": "light"
     },
     "output_type": "display_data"
    }
   ],
   "source": [
    "df.Surge_Pricing_Type.value_counts().plot(kind = \"bar\",color=\"navy\")\n",
    "plt.grid()\n",
    "ax = plt.axes()\n",
    "ax.set_facecolor(\"ivory\")\n",
    "plt.show()"
   ]
  },
  {
   "cell_type": "code",
   "execution_count": 21,
   "metadata": {},
   "outputs": [
    {
     "data": {
      "image/png": "[encoded data removed]",
      "text/plain": [
       "<Figure size 504x360 with 1 Axes>"
      ]
     },
     "metadata": {
      "needs_background": "light"
     },
     "output_type": "display_data"
    }
   ],
   "source": [
    "plt.figure(figsize=(7,5))\n",
    "sns.barplot(df.Surge_Pricing_Type, df.Trip_Distance)\n",
    "plt.grid()\n",
    "ax = plt.axes()\n",
    "ax.set_facecolor(\"lavender\")\n",
    "plt.show()"
   ]
  },
  {
   "cell_type": "code",
   "execution_count": 25,
   "metadata": {},
   "outputs": [
    {
     "data": {
      "image/png": "[encoded data removed]",
      "text/plain": [
       "<Figure size 504x360 with 1 Axes>"
      ]
     },
     "metadata": {
      "needs_background": "light"
     },
     "output_type": "display_data"
    }
   ],
   "source": [
    "plt.figure(figsize=(7,5))\n",
    "sns.barplot(df.Type_of_Cab, df.Trip_Distance)\n",
    "ax = plt.axes()\n",
    "ax.set_facecolor(\"beige\")\n",
    "plt.show()"
   ]
  },
  {
   "cell_type": "code",
   "execution_count": 32,
   "metadata": {},
   "outputs": [
    {
     "name": "stdout",
     "output_type": "stream",
     "text": [
      "<class 'pandas.core.frame.DataFrame'>\n",
      "RangeIndex: 131662 entries, 0 to 131661\n",
      "Data columns (total 14 columns):\n",
      " #   Column                       Non-Null Count   Dtype  \n",
      "---  ------                       --------------   -----  \n",
      " 0   Trip_ID                      131662 non-null  object \n",
      " 1   Trip_Distance                131662 non-null  float64\n",
      " 2   Type_of_Cab                  111452 non-null  object \n",
      " 3   Customer_Since_Months        125742 non-null  float64\n",
      " 4   Life_Style_Index             111469 non-null  float64\n",
      " 5   Confidence_Life_Style_Index  111469 non-null  object \n",
      " 6   Destination_Type             131662 non-null  object \n",
      " 7   Customer_Rating              131662 non-null  float64\n",
      " 8   Cancellation_Last_1Month     131662 non-null  int64  \n",
      " 9   Var1                         60632 non-null   float64\n",
      " 10  Var2                         131662 non-null  int64  \n",
      " 11  Var3                         131662 non-null  int64  \n",
      " 12  Gender                       131662 non-null  object \n",
      " 13  Surge_Pricing_Type           131662 non-null  int64  \n",
      "dtypes: float64(5), int64(4), object(5)\n",
      "memory usage: 14.1+ MB\n"
     ]
    }
   ],
   "source": [
    "df.info()"
   ]
  },
  {
   "cell_type": "code",
   "execution_count": 38,
   "metadata": {},
   "outputs": [
    {
     "name": "stdout",
     "output_type": "stream",
     "text": [
      "Percentage of missing values\n",
      "============================\n",
      "Type_of_Cab has 15.35% of missing values\n",
      "Customer_Since_Months has 4.496% of missing values\n",
      "Life_Style_Index has 15.337% of missing values\n",
      "Confidence_Life_Style_Index has 15.337% of missing values\n",
      "Var1 has 53.949% of missing values\n"
     ]
    }
   ],
   "source": [
    "print(\"Percentage of missing values\")\n",
    "print(\"============================\")\n",
    "\n",
    "for var in df.columns:\n",
    "    if df[var].isna().sum() >1:\n",
    "        missing_val = np.round(df[var].isna().sum()/df.shape[0] * 100,3)\n",
    "        print(var, \"has {0}% of missing values\".format(missing_val))"
   ]
  },
  {
   "cell_type": "code",
   "execution_count": 39,
   "metadata": {},
   "outputs": [
    {
     "data": {
      "text/plain": [
       "10.0    42680\n",
       "2.0     11621\n",
       "3.0     10351\n",
       "0.0     10169\n",
       "5.0      8641\n",
       "1.0      8297\n",
       "4.0      7726\n",
       "7.0      7407\n",
       "6.0      7375\n",
       "8.0      6328\n",
       "9.0      5147\n",
       "Name: Customer_Since_Months, dtype: int64"
      ]
     },
     "execution_count": 39,
     "metadata": {},
     "output_type": "execute_result"
    }
   ],
   "source": [
    "df[\"Customer_Since_Months\"].value_counts()"
   ]
  },
  {
   "cell_type": "code",
   "execution_count": 41,
   "metadata": {},
   "outputs": [
    {
     "data": {
      "image/png": "[encoded data removed]",
      "text/plain": [
       "<Figure size 504x360 with 1 Axes>"
      ]
     },
     "metadata": {
      "needs_background": "light"
     },
     "output_type": "display_data"
    }
   ],
   "source": [
    "plt.figure(figsize=(7,5))\n",
    "sns.barplot(df.Gender, df.Customer_Rating)\n",
    "ax = plt.axes()\n",
    "ax.set_facecolor(\"beige\")\n",
    "plt.show()"
   ]
  },
  {
   "cell_type": "code",
   "execution_count": 42,
   "metadata": {},
   "outputs": [
    {
     "data": {
      "image/png": "[encoded data removed]",
      "text/plain": [
       "<Figure size 504x360 with 1 Axes>"
      ]
     },
     "metadata": {
      "needs_background": "light"
     },
     "output_type": "display_data"
    }
   ],
   "source": [
    "plt.figure(figsize=(7,5))\n",
    "sns.barplot(df.Surge_Pricing_Type, df.Cancellation_Last_1Month)\n",
    "ax = plt.axes()\n",
    "ax.set_facecolor(\"beige\")\n",
    "plt.show()"
   ]
  },
  {
   "cell_type": "code",
   "execution_count": 43,
   "metadata": {},
   "outputs": [
    {
     "data": {
      "image/png": "[encoded data removed]",
      "text/plain": [
       "<Figure size 504x360 with 1 Axes>"
      ]
     },
     "metadata": {
      "needs_background": "light"
     },
     "output_type": "display_data"
    }
   ],
   "source": [
    "plt.figure(figsize=(7,5))\n",
    "sns.barplot(df.Surge_Pricing_Type, df.Type_of_Cab)\n",
    "ax = plt.axes()\n",
    "ax.set_facecolor(\"beige\")\n",
    "plt.show()"
   ]
  },
  {
   "cell_type": "markdown",
   "metadata": {},
   "source": [
    "# Data Preprocessing"
   ]
  },
  {
   "cell_type": "code",
   "execution_count": 44,
   "metadata": {},
   "outputs": [],
   "source": [
    "from scipy.stats import chi2_contingency,chi2\n",
    "\n",
    "def Chi_Square_Test(x,y,confidence_interval):\n",
    "    cross_table = pd.crosstab(x,y,margins=True)\n",
    "    statistic_val,prob_val,dof,expected = chi2_contingency(cross_table)\n",
    "    print(\"Chi_Square Value = {0}\".format(statistic_val))\n",
    "    print(\"P-Value = {0}\".format(prob_val))\n",
    "    alpha = 1 - confidence_interval\n",
    "    \n",
    "    if prob_val > alpha:\n",
    "        print(\">> Accepting Null Hypothesis <<\")\n",
    "        print(\"There Is No Relationship Between Two Variables\")\n",
    "    else:\n",
    "        print(\">> Rejecting Null Hypothesis <<\")\n",
    "        print(\"There Is A Significance Relationship Between Two Variables\")"
   ]
  },
  {
   "cell_type": "code",
   "execution_count": 47,
   "metadata": {},
   "outputs": [
    {
     "name": "stdout",
     "output_type": "stream",
     "text": [
      "(219057, 11)\n"
     ]
    },
    {
     "data": {
      "text/html": [
       "<div>\n",
       "<style scoped>\n",
       "    .dataframe tbody tr th:only-of-type {\n",
       "        vertical-align: middle;\n",
       "    }\n",
       "\n",
       "    .dataframe tbody tr th {\n",
       "        vertical-align: top;\n",
       "    }\n",
       "\n",
       "    .dataframe thead th {\n",
       "        text-align: right;\n",
       "    }\n",
       "</style>\n",
       "<table border=\"1\" class=\"dataframe\">\n",
       "  <thead>\n",
       "    <tr style=\"text-align: right;\">\n",
       "      <th></th>\n",
       "      <th>Trip_Distance</th>\n",
       "      <th>Type_of_Cab</th>\n",
       "      <th>Customer_Since_Months</th>\n",
       "      <th>Life_Style_Index</th>\n",
       "      <th>Confidence_Life_Style_Index</th>\n",
       "      <th>Destination_Type</th>\n",
       "      <th>Customer_Rating</th>\n",
       "      <th>Cancellation_Last_1Month</th>\n",
       "      <th>Var2</th>\n",
       "      <th>Var3</th>\n",
       "      <th>Gender</th>\n",
       "    </tr>\n",
       "  </thead>\n",
       "  <tbody>\n",
       "    <tr>\n",
       "      <th>0</th>\n",
       "      <td>6.77</td>\n",
       "      <td>B</td>\n",
       "      <td>1.0</td>\n",
       "      <td>2.42769</td>\n",
       "      <td>A</td>\n",
       "      <td>A</td>\n",
       "      <td>3.90500</td>\n",
       "      <td>0</td>\n",
       "      <td>46</td>\n",
       "      <td>60</td>\n",
       "      <td>Female</td>\n",
       "    </tr>\n",
       "    <tr>\n",
       "      <th>1</th>\n",
       "      <td>29.47</td>\n",
       "      <td>B</td>\n",
       "      <td>10.0</td>\n",
       "      <td>2.78245</td>\n",
       "      <td>B</td>\n",
       "      <td>A</td>\n",
       "      <td>3.45000</td>\n",
       "      <td>0</td>\n",
       "      <td>56</td>\n",
       "      <td>78</td>\n",
       "      <td>Male</td>\n",
       "    </tr>\n",
       "    <tr>\n",
       "      <th>2</th>\n",
       "      <td>41.58</td>\n",
       "      <td>NaN</td>\n",
       "      <td>10.0</td>\n",
       "      <td>NaN</td>\n",
       "      <td>NaN</td>\n",
       "      <td>E</td>\n",
       "      <td>3.50125</td>\n",
       "      <td>2</td>\n",
       "      <td>56</td>\n",
       "      <td>77</td>\n",
       "      <td>Male</td>\n",
       "    </tr>\n",
       "    <tr>\n",
       "      <th>3</th>\n",
       "      <td>61.56</td>\n",
       "      <td>C</td>\n",
       "      <td>10.0</td>\n",
       "      <td>NaN</td>\n",
       "      <td>NaN</td>\n",
       "      <td>A</td>\n",
       "      <td>3.45375</td>\n",
       "      <td>0</td>\n",
       "      <td>52</td>\n",
       "      <td>74</td>\n",
       "      <td>Male</td>\n",
       "    </tr>\n",
       "    <tr>\n",
       "      <th>4</th>\n",
       "      <td>54.95</td>\n",
       "      <td>C</td>\n",
       "      <td>10.0</td>\n",
       "      <td>3.03453</td>\n",
       "      <td>B</td>\n",
       "      <td>A</td>\n",
       "      <td>3.40250</td>\n",
       "      <td>4</td>\n",
       "      <td>49</td>\n",
       "      <td>102</td>\n",
       "      <td>Male</td>\n",
       "    </tr>\n",
       "  </tbody>\n",
       "</table>\n",
       "</div>"
      ],
      "text/plain": [
       "   Trip_Distance Type_of_Cab  Customer_Since_Months  Life_Style_Index  \\\n",
       "0           6.77           B                    1.0           2.42769   \n",
       "1          29.47           B                   10.0           2.78245   \n",
       "2          41.58         NaN                   10.0               NaN   \n",
       "3          61.56           C                   10.0               NaN   \n",
       "4          54.95           C                   10.0           3.03453   \n",
       "\n",
       "  Confidence_Life_Style_Index Destination_Type  Customer_Rating  \\\n",
       "0                           A                A          3.90500   \n",
       "1                           B                A          3.45000   \n",
       "2                         NaN                E          3.50125   \n",
       "3                         NaN                A          3.45375   \n",
       "4                           B                A          3.40250   \n",
       "\n",
       "   Cancellation_Last_1Month  Var2  Var3  Gender  \n",
       "0                         0    46    60  Female  \n",
       "1                         0    56    78    Male  \n",
       "2                         2    56    77    Male  \n",
       "3                         0    52    74    Male  \n",
       "4                         4    49   102    Male  "
      ]
     },
     "execution_count": 47,
     "metadata": {},
     "output_type": "execute_result"
    }
   ],
   "source": [
    "df_ind = df.drop(\"Surge_Pricing_Type\", axis = 1)\n",
    "df = pd.concat([df_ind,df1], axis = 0)\n",
    "df = df.drop([\"Trip_ID\",\"Var1\"], axis = 1)\n",
    "print(df.shape)\n",
    "df.head()"
   ]
  },
  {
   "cell_type": "code",
   "execution_count": 48,
   "metadata": {},
   "outputs": [],
   "source": [
    "for var in df.columns:\n",
    "    if df[var].dtype == \"float32\":\n",
    "        df[var] = df[var].astype(\"float16\")\n",
    "        \n",
    "for var in df.columns:\n",
    "    if df[var].dtype == \"int32\":\n",
    "        df[var] = df[var].astype(\"int16\")"
   ]
  },
  {
   "cell_type": "code",
   "execution_count": 49,
   "metadata": {},
   "outputs": [
    {
     "name": "stdout",
     "output_type": "stream",
     "text": [
      "(219057, 7)\n"
     ]
    },
    {
     "data": {
      "text/html": [
       "<div>\n",
       "<style scoped>\n",
       "    .dataframe tbody tr th:only-of-type {\n",
       "        vertical-align: middle;\n",
       "    }\n",
       "\n",
       "    .dataframe tbody tr th {\n",
       "        vertical-align: top;\n",
       "    }\n",
       "\n",
       "    .dataframe thead th {\n",
       "        text-align: right;\n",
       "    }\n",
       "</style>\n",
       "<table border=\"1\" class=\"dataframe\">\n",
       "  <thead>\n",
       "    <tr style=\"text-align: right;\">\n",
       "      <th></th>\n",
       "      <th>Trip_Distance</th>\n",
       "      <th>Customer_Since_Months</th>\n",
       "      <th>Life_Style_Index</th>\n",
       "      <th>Customer_Rating</th>\n",
       "      <th>Cancellation_Last_1Month</th>\n",
       "      <th>Var2</th>\n",
       "      <th>Var3</th>\n",
       "    </tr>\n",
       "  </thead>\n",
       "  <tbody>\n",
       "    <tr>\n",
       "      <th>0</th>\n",
       "      <td>6.77</td>\n",
       "      <td>1.0</td>\n",
       "      <td>2.42769</td>\n",
       "      <td>3.90500</td>\n",
       "      <td>0</td>\n",
       "      <td>46</td>\n",
       "      <td>60</td>\n",
       "    </tr>\n",
       "    <tr>\n",
       "      <th>1</th>\n",
       "      <td>29.47</td>\n",
       "      <td>10.0</td>\n",
       "      <td>2.78245</td>\n",
       "      <td>3.45000</td>\n",
       "      <td>0</td>\n",
       "      <td>56</td>\n",
       "      <td>78</td>\n",
       "    </tr>\n",
       "    <tr>\n",
       "      <th>2</th>\n",
       "      <td>41.58</td>\n",
       "      <td>10.0</td>\n",
       "      <td>NaN</td>\n",
       "      <td>3.50125</td>\n",
       "      <td>2</td>\n",
       "      <td>56</td>\n",
       "      <td>77</td>\n",
       "    </tr>\n",
       "    <tr>\n",
       "      <th>3</th>\n",
       "      <td>61.56</td>\n",
       "      <td>10.0</td>\n",
       "      <td>NaN</td>\n",
       "      <td>3.45375</td>\n",
       "      <td>0</td>\n",
       "      <td>52</td>\n",
       "      <td>74</td>\n",
       "    </tr>\n",
       "    <tr>\n",
       "      <th>4</th>\n",
       "      <td>54.95</td>\n",
       "      <td>10.0</td>\n",
       "      <td>3.03453</td>\n",
       "      <td>3.40250</td>\n",
       "      <td>4</td>\n",
       "      <td>49</td>\n",
       "      <td>102</td>\n",
       "    </tr>\n",
       "  </tbody>\n",
       "</table>\n",
       "</div>"
      ],
      "text/plain": [
       "   Trip_Distance  Customer_Since_Months  Life_Style_Index  Customer_Rating  \\\n",
       "0           6.77                    1.0           2.42769          3.90500   \n",
       "1          29.47                   10.0           2.78245          3.45000   \n",
       "2          41.58                   10.0               NaN          3.50125   \n",
       "3          61.56                   10.0               NaN          3.45375   \n",
       "4          54.95                   10.0           3.03453          3.40250   \n",
       "\n",
       "   Cancellation_Last_1Month  Var2  Var3  \n",
       "0                         0    46    60  \n",
       "1                         0    56    78  \n",
       "2                         2    56    77  \n",
       "3                         0    52    74  \n",
       "4                         4    49   102  "
      ]
     },
     "execution_count": 49,
     "metadata": {},
     "output_type": "execute_result"
    }
   ],
   "source": [
    "num_var = [var for var in df.columns if df[var].dtype != \"object\"]\n",
    "num_data = df[num_var]\n",
    "print(num_data.shape)\n",
    "num_data.head()"
   ]
  },
  {
   "cell_type": "code",
   "execution_count": 50,
   "metadata": {},
   "outputs": [
    {
     "data": {
      "text/html": [
       "<div>\n",
       "<style scoped>\n",
       "    .dataframe tbody tr th:only-of-type {\n",
       "        vertical-align: middle;\n",
       "    }\n",
       "\n",
       "    .dataframe tbody tr th {\n",
       "        vertical-align: top;\n",
       "    }\n",
       "\n",
       "    .dataframe thead th {\n",
       "        text-align: right;\n",
       "    }\n",
       "</style>\n",
       "<table border=\"1\" class=\"dataframe\">\n",
       "  <thead>\n",
       "    <tr style=\"text-align: right;\">\n",
       "      <th></th>\n",
       "      <th>Type_of_Cab</th>\n",
       "      <th>Confidence_Life_Style_Index</th>\n",
       "      <th>Destination_Type</th>\n",
       "      <th>Gender</th>\n",
       "    </tr>\n",
       "  </thead>\n",
       "  <tbody>\n",
       "    <tr>\n",
       "      <th>0</th>\n",
       "      <td>B</td>\n",
       "      <td>A</td>\n",
       "      <td>A</td>\n",
       "      <td>Female</td>\n",
       "    </tr>\n",
       "    <tr>\n",
       "      <th>1</th>\n",
       "      <td>B</td>\n",
       "      <td>B</td>\n",
       "      <td>A</td>\n",
       "      <td>Male</td>\n",
       "    </tr>\n",
       "    <tr>\n",
       "      <th>2</th>\n",
       "      <td>NaN</td>\n",
       "      <td>NaN</td>\n",
       "      <td>E</td>\n",
       "      <td>Male</td>\n",
       "    </tr>\n",
       "    <tr>\n",
       "      <th>3</th>\n",
       "      <td>C</td>\n",
       "      <td>NaN</td>\n",
       "      <td>A</td>\n",
       "      <td>Male</td>\n",
       "    </tr>\n",
       "    <tr>\n",
       "      <th>4</th>\n",
       "      <td>C</td>\n",
       "      <td>B</td>\n",
       "      <td>A</td>\n",
       "      <td>Male</td>\n",
       "    </tr>\n",
       "  </tbody>\n",
       "</table>\n",
       "</div>"
      ],
      "text/plain": [
       "  Type_of_Cab Confidence_Life_Style_Index Destination_Type  Gender\n",
       "0           B                           A                A  Female\n",
       "1           B                           B                A    Male\n",
       "2         NaN                         NaN                E    Male\n",
       "3           C                         NaN                A    Male\n",
       "4           C                           B                A    Male"
      ]
     },
     "execution_count": 50,
     "metadata": {},
     "output_type": "execute_result"
    }
   ],
   "source": [
    "cat_data = df.drop(num_data.columns,axis = 1) #Var which is not present in num data will be stored\n",
    "raw_cat_data = cat_data.copy()\n",
    "cat_data.head()"
   ]
  },
  {
   "cell_type": "code",
   "execution_count": 51,
   "metadata": {},
   "outputs": [
    {
     "name": "stdout",
     "output_type": "stream",
     "text": [
      "<class 'pandas.core.frame.DataFrame'>\n",
      "Int64Index: 219057 entries, 0 to 87394\n",
      "Data columns (total 7 columns):\n",
      " #   Column                    Non-Null Count   Dtype  \n",
      "---  ------                    --------------   -----  \n",
      " 0   Trip_Distance             219057 non-null  float64\n",
      " 1   Customer_Since_Months     209171 non-null  float64\n",
      " 2   Life_Style_Index          185537 non-null  float64\n",
      " 3   Customer_Rating           219057 non-null  float64\n",
      " 4   Cancellation_Last_1Month  219057 non-null  int64  \n",
      " 5   Var2                      219057 non-null  int64  \n",
      " 6   Var3                      219057 non-null  int64  \n",
      "dtypes: float64(4), int64(3)\n",
      "memory usage: 13.4 MB\n"
     ]
    }
   ],
   "source": [
    "num_data.info()"
   ]
  },
  {
   "cell_type": "code",
   "execution_count": 52,
   "metadata": {},
   "outputs": [],
   "source": [
    "num_data[\"Life_Style_Index\"] = num_data[\"Life_Style_Index\"].fillna(num_data[\"Life_Style_Index\"].median())\n",
    "num_data[\"Customer_Since_Months\"] = num_data[\"Customer_Since_Months\"].fillna(num_data[\"Customer_Since_Months\"].median())"
   ]
  },
  {
   "cell_type": "code",
   "execution_count": 54,
   "metadata": {},
   "outputs": [],
   "source": [
    "cat_data[\"Type_of_Cab\"] = np.where(cat_data[\"Type_of_Cab\"].isnull(),\"Missing\",cat_data[\"Type_of_Cab\"])\n",
    "cat_data[\"Confidence_Life_Style_Index\"] = np.where(cat_data[\"Confidence_Life_Style_Index\"].isnull(),\"Missing\",cat_data[\"Confidence_Life_Style_Index\"])"
   ]
  },
  {
   "cell_type": "code",
   "execution_count": 59,
   "metadata": {},
   "outputs": [],
   "source": [
    "df_train = pd.read_csv(\"E:\\Downlload\\Mobility_Train.csv\")\n",
    "#df1 = pd.read_csv(\"E:\\Downlload\\Mobility_Test.csv\")"
   ]
  },
  {
   "cell_type": "code",
   "execution_count": 66,
   "metadata": {},
   "outputs": [
    {
     "name": "stdout",
     "output_type": "stream",
     "text": [
      "===================================================================\n",
      "Chi Square Test for  Type_of_Cab and Surge_Pricing_Type\n",
      "===================================================================\n",
      "Chi_Square Value = 76126.79267838228\n",
      "P-Value = 0.0\n",
      ">> Rejecting Null Hypothesis <<\n",
      "There Is A Significance Relationship Between Two Variables\n",
      "====================================================================\n",
      "Chi Square Test for  Confidence_Life_Style_Index and Surge_Pricing_Type\n",
      "====================================================================\n",
      "Chi_Square Value = 5446.871123288485\n",
      "P-Value = 0.0\n",
      ">> Rejecting Null Hypothesis <<\n",
      "There Is A Significance Relationship Between Two Variables\n",
      "====================================================================\n",
      "Chi Square Test for  Destination_Type and Surge_Pricing_Type\n",
      "====================================================================\n",
      "Chi_Square Value = 4389.3758068361085\n",
      "P-Value = 0.0\n",
      ">> Rejecting Null Hypothesis <<\n",
      "There Is A Significance Relationship Between Two Variables\n",
      "====================================================================\n",
      "Chi Square Test for  Gender and Surge_Pricing_Type\n",
      "====================================================================\n",
      "Chi_Square Value = 2.672026803165324\n",
      "P-Value = 0.8487401731109667\n",
      ">> Accepting Null Hypothesis <<\n",
      "There Is No Relationship Between Two Variables\n"
     ]
    }
   ],
   "source": [
    "print(\"===================================================================\")\n",
    "print(\"Chi Square Test for  Type_of_Cab and Surge_Pricing_Type\")\n",
    "print(\"===================================================================\")\n",
    "Chi_Square_Test(df_train[\"Type_of_Cab\"], df_train[\"Surge_Pricing_Type\"],0.95)\n",
    "print(\"====================================================================\")\n",
    "print(\"Chi Square Test for  Confidence_Life_Style_Index and Surge_Pricing_Type\")\n",
    "print(\"====================================================================\")\n",
    "Chi_Square_Test(df_train[\"Confidence_Life_Style_Index\"], df_train[\"Surge_Pricing_Type\"],0.95)\n",
    "print(\"====================================================================\")\n",
    "print(\"Chi Square Test for  Destination_Type and Surge_Pricing_Type\")\n",
    "print(\"====================================================================\")\n",
    "Chi_Square_Test(df_train[\"Destination_Type\"], df_train[\"Surge_Pricing_Type\"],0.95)\n",
    "print(\"====================================================================\")\n",
    "print(\"Chi Square Test for  Gender and Surge_Pricing_Type\")\n",
    "print(\"====================================================================\")\n",
    "Chi_Square_Test(df_train[\"Gender\"], df_train[\"Surge_Pricing_Type\"],0.95)"
   ]
  },
  {
   "cell_type": "code",
   "execution_count": 67,
   "metadata": {},
   "outputs": [
    {
     "data": {
      "image/png": "[encoded data removed]",
      "text/plain": [
       "<Figure size 1440x1440 with 9 Axes>"
      ]
     },
     "metadata": {
      "needs_background": "light"
     },
     "output_type": "display_data"
    }
   ],
   "source": [
    "plt.rcParams[\"figure.figsize\"] = 20,20\n",
    "num_data.hist();"
   ]
  },
  {
   "cell_type": "markdown",
   "metadata": {},
   "source": [
    "# Feature Engineering"
   ]
  },
  {
   "cell_type": "code",
   "execution_count": 68,
   "metadata": {},
   "outputs": [
    {
     "data": {
      "text/plain": [
       "Trip_Distance               0.726008\n",
       "Customer_Since_Months      -0.247014\n",
       "Life_Style_Index            0.233348\n",
       "Customer_Rating            -0.192665\n",
       "Cancellation_Last_1Month    1.544260\n",
       "Var2                        1.167965\n",
       "Var3                        0.819039\n",
       "dtype: float64"
      ]
     },
     "execution_count": 68,
     "metadata": {},
     "output_type": "execute_result"
    }
   ],
   "source": [
    "num_data.skew()"
   ]
  },
  {
   "cell_type": "code",
   "execution_count": 69,
   "metadata": {},
   "outputs": [],
   "source": [
    "from scipy.stats import skew\n",
    "from scipy.stats import yeojohnson,boxcox\n",
    "from scipy.special import boxcox1p"
   ]
  },
  {
   "cell_type": "code",
   "execution_count": 70,
   "metadata": {},
   "outputs": [
    {
     "data": {
      "text/plain": [
       "-0.37127695231480706"
      ]
     },
     "execution_count": 70,
     "metadata": {},
     "output_type": "execute_result"
    }
   ],
   "source": [
    "iy = boxcox1p(num_data[\"Trip_Distance\"],0.15)\n",
    "skew(iy)"
   ]
  },
  {
   "cell_type": "code",
   "execution_count": 71,
   "metadata": {},
   "outputs": [
    {
     "data": {
      "text/html": [
       "<div>\n",
       "<style scoped>\n",
       "    .dataframe tbody tr th:only-of-type {\n",
       "        vertical-align: middle;\n",
       "    }\n",
       "\n",
       "    .dataframe tbody tr th {\n",
       "        vertical-align: top;\n",
       "    }\n",
       "\n",
       "    .dataframe thead th {\n",
       "        text-align: right;\n",
       "    }\n",
       "</style>\n",
       "<table border=\"1\" class=\"dataframe\">\n",
       "  <thead>\n",
       "    <tr style=\"text-align: right;\">\n",
       "      <th></th>\n",
       "      <th>Skew</th>\n",
       "    </tr>\n",
       "  </thead>\n",
       "  <tbody>\n",
       "    <tr>\n",
       "      <th>Trip_Distance</th>\n",
       "      <td>0.726003</td>\n",
       "    </tr>\n",
       "    <tr>\n",
       "      <th>Customer_Since_Months</th>\n",
       "      <td>0.247012</td>\n",
       "    </tr>\n",
       "    <tr>\n",
       "      <th>Life_Style_Index</th>\n",
       "      <td>0.233347</td>\n",
       "    </tr>\n",
       "    <tr>\n",
       "      <th>Customer_Rating</th>\n",
       "      <td>0.192664</td>\n",
       "    </tr>\n",
       "    <tr>\n",
       "      <th>Cancellation_Last_1Month</th>\n",
       "      <td>1.544249</td>\n",
       "    </tr>\n",
       "  </tbody>\n",
       "</table>\n",
       "</div>"
      ],
      "text/plain": [
       "                              Skew\n",
       "Trip_Distance             0.726003\n",
       "Customer_Since_Months     0.247012\n",
       "Life_Style_Index          0.233347\n",
       "Customer_Rating           0.192664\n",
       "Cancellation_Last_1Month  1.544249"
      ]
     },
     "execution_count": 71,
     "metadata": {},
     "output_type": "execute_result"
    }
   ],
   "source": [
    "from scipy.stats import skew\n",
    "skewed_data = num_data.apply(lambda x: skew(x.dropna()))\n",
    "skew_in_data = pd.DataFrame(abs(skewed_data),columns = [\"Skew\"])\n",
    "skew_in_data.head()"
   ]
  },
  {
   "cell_type": "code",
   "execution_count": 72,
   "metadata": {},
   "outputs": [
    {
     "name": "stdout",
     "output_type": "stream",
     "text": [
      "There are 7 skewed numerical features to Box Cox transform\n"
     ]
    },
    {
     "data": {
      "text/plain": [
       "Trip_Distance              -0.371279\n",
       "Customer_Since_Months      -0.919713\n",
       "Life_Style_Index           -0.024584\n",
       "Customer_Rating            -0.781397\n",
       "Cancellation_Last_1Month    0.741422\n",
       "Var2                        0.830962\n",
       "Var3                        0.449539\n",
       "dtype: float64"
      ]
     },
     "execution_count": 72,
     "metadata": {},
     "output_type": "execute_result"
    }
   ],
   "source": [
    "print(\"There are {} skewed numerical features to Box Cox transform\".format(skew_in_data.shape[0]))\n",
    "temp_data = num_data.copy()\n",
    "from scipy.special import boxcox1p\n",
    "lam = 0.15\n",
    "for var in skew_in_data.index:\n",
    "    temp_data[var] = boxcox1p(temp_data[var], lam)\n",
    "temp_data.skew()"
   ]
  },
  {
   "cell_type": "code",
   "execution_count": 73,
   "metadata": {},
   "outputs": [
    {
     "data": {
      "text/plain": [
       "(5,)"
      ]
     },
     "execution_count": 73,
     "metadata": {},
     "output_type": "execute_result"
    }
   ],
   "source": [
    "skew_in_data[\"Skew_after_boxcox\"] = abs(temp_data.skew().values)\n",
    "skew_in_data[\"result\"] = skew_in_data[\"Skew\"] > skew_in_data[\"Skew_after_boxcox\"]\n",
    "skew_in_data[skew_in_data[\"result\"]==True].index.shape"
   ]
  },
  {
   "cell_type": "code",
   "execution_count": 74,
   "metadata": {},
   "outputs": [
    {
     "name": "stdout",
     "output_type": "stream",
     "text": [
      "There are 5 skewed numerical features to Box Cox transform\n"
     ]
    },
    {
     "data": {
      "text/plain": [
       "Trip_Distance              -0.371279\n",
       "Customer_Since_Months      -0.247014\n",
       "Life_Style_Index           -0.024584\n",
       "Customer_Rating            -0.192665\n",
       "Cancellation_Last_1Month    0.741422\n",
       "Var2                        0.830962\n",
       "Var3                        0.449539\n",
       "dtype: float64"
      ]
     },
     "execution_count": 74,
     "metadata": {},
     "output_type": "execute_result"
    }
   ],
   "source": [
    "print(\"There are {} skewed numerical features to Box Cox transform\".format(skew_in_data[skew_in_data[\"result\"]==True].index.shape[0]))\n",
    "\n",
    "from scipy.special import boxcox1p\n",
    "lam = 0.15\n",
    "for var in skew_in_data[skew_in_data[\"result\"]==True].index:\n",
    "    num_data[var] = boxcox1p(num_data[var], lam)\n",
    "num_data.skew()"
   ]
  },
  {
   "cell_type": "code",
   "execution_count": 75,
   "metadata": {},
   "outputs": [
    {
     "data": {
      "image/png": "[encoded data removed]",
      "text/plain": [
       "<Figure size 1440x1440 with 9 Axes>"
      ]
     },
     "metadata": {
      "needs_background": "light"
     },
     "output_type": "display_data"
    }
   ],
   "source": [
    "num_data.hist();"
   ]
  },
  {
   "cell_type": "code",
   "execution_count": 76,
   "metadata": {},
   "outputs": [
    {
     "data": {
      "image/png": "[encoded data removed]",
      "text/plain": [
       "<Figure size 1440x1440 with 2 Axes>"
      ]
     },
     "metadata": {
      "needs_background": "light"
     },
     "output_type": "display_data"
    }
   ],
   "source": [
    "sns.heatmap(num_data.corr(),annot=True);"
   ]
  },
  {
   "cell_type": "code",
   "execution_count": 77,
   "metadata": {},
   "outputs": [
    {
     "data": {
      "text/plain": [
       "Type_of_Cab                    33368\n",
       "Confidence_Life_Style_Index    33520\n",
       "Destination_Type                   0\n",
       "Gender                             0\n",
       "dtype: int64"
      ]
     },
     "execution_count": 77,
     "metadata": {},
     "output_type": "execute_result"
    }
   ],
   "source": [
    "raw_cat_data.isnull().sum()"
   ]
  },
  {
   "cell_type": "code",
   "execution_count": 78,
   "metadata": {},
   "outputs": [],
   "source": [
    "raw_cat_data[\"Type_of_Cab\"] = raw_cat_data[\"Type_of_Cab\"].fillna(raw_cat_data[\"Type_of_Cab\"].mode()[0])\n",
    "raw_cat_data[\"Confidence_Life_Style_Index\"] = raw_cat_data[\"Confidence_Life_Style_Index\"].fillna(raw_cat_data[\"Confidence_Life_Style_Index\"].mode()[0])"
   ]
  },
  {
   "cell_type": "code",
   "execution_count": 79,
   "metadata": {},
   "outputs": [
    {
     "data": {
      "text/html": [
       "<div>\n",
       "<style scoped>\n",
       "    .dataframe tbody tr th:only-of-type {\n",
       "        vertical-align: middle;\n",
       "    }\n",
       "\n",
       "    .dataframe tbody tr th {\n",
       "        vertical-align: top;\n",
       "    }\n",
       "\n",
       "    .dataframe thead th {\n",
       "        text-align: right;\n",
       "    }\n",
       "</style>\n",
       "<table border=\"1\" class=\"dataframe\">\n",
       "  <thead>\n",
       "    <tr style=\"text-align: right;\">\n",
       "      <th></th>\n",
       "      <th>Type_of_Cab</th>\n",
       "      <th>Confidence_Life_Style_Index</th>\n",
       "      <th>Destination_Type</th>\n",
       "      <th>Gender</th>\n",
       "    </tr>\n",
       "  </thead>\n",
       "  <tbody>\n",
       "    <tr>\n",
       "      <th>0</th>\n",
       "      <td>B</td>\n",
       "      <td>A</td>\n",
       "      <td>A</td>\n",
       "      <td>Female</td>\n",
       "    </tr>\n",
       "    <tr>\n",
       "      <th>1</th>\n",
       "      <td>B</td>\n",
       "      <td>B</td>\n",
       "      <td>A</td>\n",
       "      <td>Male</td>\n",
       "    </tr>\n",
       "    <tr>\n",
       "      <th>2</th>\n",
       "      <td>Missing</td>\n",
       "      <td>Missing</td>\n",
       "      <td>E</td>\n",
       "      <td>Male</td>\n",
       "    </tr>\n",
       "    <tr>\n",
       "      <th>3</th>\n",
       "      <td>C</td>\n",
       "      <td>Missing</td>\n",
       "      <td>A</td>\n",
       "      <td>Male</td>\n",
       "    </tr>\n",
       "    <tr>\n",
       "      <th>4</th>\n",
       "      <td>C</td>\n",
       "      <td>B</td>\n",
       "      <td>A</td>\n",
       "      <td>Male</td>\n",
       "    </tr>\n",
       "  </tbody>\n",
       "</table>\n",
       "</div>"
      ],
      "text/plain": [
       "  Type_of_Cab Confidence_Life_Style_Index Destination_Type  Gender\n",
       "0           B                           A                A  Female\n",
       "1           B                           B                A    Male\n",
       "2     Missing                     Missing                E    Male\n",
       "3           C                     Missing                A    Male\n",
       "4           C                           B                A    Male"
      ]
     },
     "execution_count": 79,
     "metadata": {},
     "output_type": "execute_result"
    }
   ],
   "source": [
    "cat_data.head()"
   ]
  },
  {
   "cell_type": "code",
   "execution_count": 80,
   "metadata": {},
   "outputs": [
    {
     "data": {
      "text/html": [
       "<div>\n",
       "<style scoped>\n",
       "    .dataframe tbody tr th:only-of-type {\n",
       "        vertical-align: middle;\n",
       "    }\n",
       "\n",
       "    .dataframe tbody tr th {\n",
       "        vertical-align: top;\n",
       "    }\n",
       "\n",
       "    .dataframe thead th {\n",
       "        text-align: right;\n",
       "    }\n",
       "</style>\n",
       "<table border=\"1\" class=\"dataframe\">\n",
       "  <thead>\n",
       "    <tr style=\"text-align: right;\">\n",
       "      <th></th>\n",
       "      <th>Type_of_Cab_B</th>\n",
       "      <th>Type_of_Cab_C</th>\n",
       "      <th>Type_of_Cab_D</th>\n",
       "      <th>Type_of_Cab_E</th>\n",
       "      <th>Type_of_Cab_Missing</th>\n",
       "      <th>Confidence_Life_Style_Index_B</th>\n",
       "      <th>Confidence_Life_Style_Index_C</th>\n",
       "      <th>Confidence_Life_Style_Index_Missing</th>\n",
       "      <th>Destination_Type_B</th>\n",
       "      <th>Destination_Type_C</th>\n",
       "      <th>...</th>\n",
       "      <th>Destination_Type_F</th>\n",
       "      <th>Destination_Type_G</th>\n",
       "      <th>Destination_Type_H</th>\n",
       "      <th>Destination_Type_I</th>\n",
       "      <th>Destination_Type_J</th>\n",
       "      <th>Destination_Type_K</th>\n",
       "      <th>Destination_Type_L</th>\n",
       "      <th>Destination_Type_M</th>\n",
       "      <th>Destination_Type_N</th>\n",
       "      <th>Gender_Male</th>\n",
       "    </tr>\n",
       "  </thead>\n",
       "  <tbody>\n",
       "    <tr>\n",
       "      <th>0</th>\n",
       "      <td>1</td>\n",
       "      <td>0</td>\n",
       "      <td>0</td>\n",
       "      <td>0</td>\n",
       "      <td>0</td>\n",
       "      <td>0</td>\n",
       "      <td>0</td>\n",
       "      <td>0</td>\n",
       "      <td>0</td>\n",
       "      <td>0</td>\n",
       "      <td>...</td>\n",
       "      <td>0</td>\n",
       "      <td>0</td>\n",
       "      <td>0</td>\n",
       "      <td>0</td>\n",
       "      <td>0</td>\n",
       "      <td>0</td>\n",
       "      <td>0</td>\n",
       "      <td>0</td>\n",
       "      <td>0</td>\n",
       "      <td>0</td>\n",
       "    </tr>\n",
       "    <tr>\n",
       "      <th>1</th>\n",
       "      <td>1</td>\n",
       "      <td>0</td>\n",
       "      <td>0</td>\n",
       "      <td>0</td>\n",
       "      <td>0</td>\n",
       "      <td>1</td>\n",
       "      <td>0</td>\n",
       "      <td>0</td>\n",
       "      <td>0</td>\n",
       "      <td>0</td>\n",
       "      <td>...</td>\n",
       "      <td>0</td>\n",
       "      <td>0</td>\n",
       "      <td>0</td>\n",
       "      <td>0</td>\n",
       "      <td>0</td>\n",
       "      <td>0</td>\n",
       "      <td>0</td>\n",
       "      <td>0</td>\n",
       "      <td>0</td>\n",
       "      <td>1</td>\n",
       "    </tr>\n",
       "    <tr>\n",
       "      <th>2</th>\n",
       "      <td>0</td>\n",
       "      <td>0</td>\n",
       "      <td>0</td>\n",
       "      <td>0</td>\n",
       "      <td>1</td>\n",
       "      <td>0</td>\n",
       "      <td>0</td>\n",
       "      <td>1</td>\n",
       "      <td>0</td>\n",
       "      <td>0</td>\n",
       "      <td>...</td>\n",
       "      <td>0</td>\n",
       "      <td>0</td>\n",
       "      <td>0</td>\n",
       "      <td>0</td>\n",
       "      <td>0</td>\n",
       "      <td>0</td>\n",
       "      <td>0</td>\n",
       "      <td>0</td>\n",
       "      <td>0</td>\n",
       "      <td>1</td>\n",
       "    </tr>\n",
       "    <tr>\n",
       "      <th>3</th>\n",
       "      <td>0</td>\n",
       "      <td>1</td>\n",
       "      <td>0</td>\n",
       "      <td>0</td>\n",
       "      <td>0</td>\n",
       "      <td>0</td>\n",
       "      <td>0</td>\n",
       "      <td>1</td>\n",
       "      <td>0</td>\n",
       "      <td>0</td>\n",
       "      <td>...</td>\n",
       "      <td>0</td>\n",
       "      <td>0</td>\n",
       "      <td>0</td>\n",
       "      <td>0</td>\n",
       "      <td>0</td>\n",
       "      <td>0</td>\n",
       "      <td>0</td>\n",
       "      <td>0</td>\n",
       "      <td>0</td>\n",
       "      <td>1</td>\n",
       "    </tr>\n",
       "    <tr>\n",
       "      <th>4</th>\n",
       "      <td>0</td>\n",
       "      <td>1</td>\n",
       "      <td>0</td>\n",
       "      <td>0</td>\n",
       "      <td>0</td>\n",
       "      <td>1</td>\n",
       "      <td>0</td>\n",
       "      <td>0</td>\n",
       "      <td>0</td>\n",
       "      <td>0</td>\n",
       "      <td>...</td>\n",
       "      <td>0</td>\n",
       "      <td>0</td>\n",
       "      <td>0</td>\n",
       "      <td>0</td>\n",
       "      <td>0</td>\n",
       "      <td>0</td>\n",
       "      <td>0</td>\n",
       "      <td>0</td>\n",
       "      <td>0</td>\n",
       "      <td>1</td>\n",
       "    </tr>\n",
       "  </tbody>\n",
       "</table>\n",
       "<p>5 rows × 22 columns</p>\n",
       "</div>"
      ],
      "text/plain": [
       "   Type_of_Cab_B  Type_of_Cab_C  Type_of_Cab_D  Type_of_Cab_E  \\\n",
       "0              1              0              0              0   \n",
       "1              1              0              0              0   \n",
       "2              0              0              0              0   \n",
       "3              0              1              0              0   \n",
       "4              0              1              0              0   \n",
       "\n",
       "   Type_of_Cab_Missing  Confidence_Life_Style_Index_B  \\\n",
       "0                    0                              0   \n",
       "1                    0                              1   \n",
       "2                    1                              0   \n",
       "3                    0                              0   \n",
       "4                    0                              1   \n",
       "\n",
       "   Confidence_Life_Style_Index_C  Confidence_Life_Style_Index_Missing  \\\n",
       "0                              0                                    0   \n",
       "1                              0                                    0   \n",
       "2                              0                                    1   \n",
       "3                              0                                    1   \n",
       "4                              0                                    0   \n",
       "\n",
       "   Destination_Type_B  Destination_Type_C  ...  Destination_Type_F  \\\n",
       "0                   0                   0  ...                   0   \n",
       "1                   0                   0  ...                   0   \n",
       "2                   0                   0  ...                   0   \n",
       "3                   0                   0  ...                   0   \n",
       "4                   0                   0  ...                   0   \n",
       "\n",
       "   Destination_Type_G  Destination_Type_H  Destination_Type_I  \\\n",
       "0                   0                   0                   0   \n",
       "1                   0                   0                   0   \n",
       "2                   0                   0                   0   \n",
       "3                   0                   0                   0   \n",
       "4                   0                   0                   0   \n",
       "\n",
       "   Destination_Type_J  Destination_Type_K  Destination_Type_L  \\\n",
       "0                   0                   0                   0   \n",
       "1                   0                   0                   0   \n",
       "2                   0                   0                   0   \n",
       "3                   0                   0                   0   \n",
       "4                   0                   0                   0   \n",
       "\n",
       "   Destination_Type_M  Destination_Type_N  Gender_Male  \n",
       "0                   0                   0            0  \n",
       "1                   0                   0            1  \n",
       "2                   0                   0            1  \n",
       "3                   0                   0            1  \n",
       "4                   0                   0            1  \n",
       "\n",
       "[5 rows x 22 columns]"
      ]
     },
     "execution_count": 80,
     "metadata": {},
     "output_type": "execute_result"
    }
   ],
   "source": [
    "cat_dummies = pd.get_dummies(cat_data, drop_first=True)\n",
    "cat_dummies.head()"
   ]
  },
  {
   "cell_type": "code",
   "execution_count": 82,
   "metadata": {},
   "outputs": [
    {
     "data": {
      "text/plain": [
       "(87395, 29)"
      ]
     },
     "execution_count": 82,
     "metadata": {},
     "output_type": "execute_result"
    }
   ],
   "source": [
    "data = pd.concat([num_data,cat_dummies], axis = 1)\n",
    "data_train = data[:df_train.shape[0]]\n",
    "data_test = data[df_train.shape[0]:]\n",
    "data_test.shape"
   ]
  },
  {
   "cell_type": "code",
   "execution_count": 84,
   "metadata": {},
   "outputs": [],
   "source": [
    "X = data_train\n",
    "Y = df_train[\"Surge_Pricing_Type\"]\n",
    "\n",
    "from sklearn.model_selection import train_test_split\n",
    "\n",
    "train_x,test_x,train_y,test_y = train_test_split(X,Y,test_size = 0.33, stratify = Y)"
   ]
  },
  {
   "cell_type": "code",
   "execution_count": 85,
   "metadata": {},
   "outputs": [
    {
     "name": "stdout",
     "output_type": "stream",
     "text": [
      "Train Accuracy is 0.7124346751612574\n",
      "Test Accuracy is 0.6968399733020323\n",
      "Classification Report For Test Data is\n",
      "              precision    recall  f1-score   support\n",
      "\n",
      "           1       0.74      0.55      0.63      8981\n",
      "           2       0.67      0.79      0.73     18720\n",
      "           3       0.72      0.66      0.69     15748\n",
      "\n",
      "    accuracy                           0.70     43449\n",
      "   macro avg       0.71      0.67      0.68     43449\n",
      "weighted avg       0.70      0.70      0.69     43449\n",
      "\n"
     ]
    }
   ],
   "source": [
    "from sklearn.metrics import accuracy_score,classification_report\n",
    "from xgboost import XGBClassifier\n",
    "model = XGBClassifier(n_estimators=300, learning_rate=0.1, max_depth=4,objective = \"multi:softmax\")\n",
    "model.fit(train_x,train_y)\n",
    "pred_train = model.predict(train_x)\n",
    "print(f\"Train Accuracy is {accuracy_score(train_y,pred_train)}\")\n",
    "pred_test = model.predict(test_x)\n",
    "print(f\"Test Accuracy is {accuracy_score(test_y,pred_test)}\")\n",
    "print(f\"Classification Report For Test Data is\\n{classification_report(test_y,pred_test)}\")"
   ]
  },
  {
   "cell_type": "code",
   "execution_count": 86,
   "metadata": {},
   "outputs": [
    {
     "name": "stdout",
     "output_type": "stream",
     "text": [
      "Train Accuracy is 0.7084808069146754\n"
     ]
    }
   ],
   "source": [
    "model = XGBClassifier(n_estimators=300, learning_rate=0.1, max_depth=4,objective = \"multi:softmax\")\n",
    "model.fit(X,Y)\n",
    "pred_train = model.predict(X)\n",
    "print(f\"Train Accuracy is {accuracy_score(Y,pred_train)}\")\n",
    "pred_test = model.predict(data_test)"
   ]
  },
  {
   "cell_type": "code",
   "execution_count": 89,
   "metadata": {},
   "outputs": [
    {
     "data": {
      "text/html": [
       "<div>\n",
       "<style scoped>\n",
       "    .dataframe tbody tr th:only-of-type {\n",
       "        vertical-align: middle;\n",
       "    }\n",
       "\n",
       "    .dataframe tbody tr th {\n",
       "        vertical-align: top;\n",
       "    }\n",
       "\n",
       "    .dataframe thead th {\n",
       "        text-align: right;\n",
       "    }\n",
       "</style>\n",
       "<table border=\"1\" class=\"dataframe\">\n",
       "  <thead>\n",
       "    <tr style=\"text-align: right;\">\n",
       "      <th></th>\n",
       "      <th>Trip_ID</th>\n",
       "      <th>Surge_Pricing_Type</th>\n",
       "    </tr>\n",
       "  </thead>\n",
       "  <tbody>\n",
       "    <tr>\n",
       "      <th>0</th>\n",
       "      <td>T0005689459</td>\n",
       "      <td>1</td>\n",
       "    </tr>\n",
       "    <tr>\n",
       "      <th>1</th>\n",
       "      <td>T0005689462</td>\n",
       "      <td>2</td>\n",
       "    </tr>\n",
       "    <tr>\n",
       "      <th>2</th>\n",
       "      <td>T0005689463</td>\n",
       "      <td>2</td>\n",
       "    </tr>\n",
       "    <tr>\n",
       "      <th>3</th>\n",
       "      <td>T0005689466</td>\n",
       "      <td>2</td>\n",
       "    </tr>\n",
       "    <tr>\n",
       "      <th>4</th>\n",
       "      <td>T0005689468</td>\n",
       "      <td>2</td>\n",
       "    </tr>\n",
       "  </tbody>\n",
       "</table>\n",
       "</div>"
      ],
      "text/plain": [
       "       Trip_ID  Surge_Pricing_Type\n",
       "0  T0005689459                   1\n",
       "1  T0005689462                   2\n",
       "2  T0005689463                   2\n",
       "3  T0005689466                   2\n",
       "4  T0005689468                   2"
      ]
     },
     "execution_count": 89,
     "metadata": {},
     "output_type": "execute_result"
    }
   ],
   "source": [
    "submission = pd.DataFrame()\n",
    "submission[\"Trip_ID\"] = df1[\"Trip_ID\"]\n",
    "submission[\"Surge_Pricing_Type\"] = pred_test\n",
    "folder = \"D:\\Data Science Python Programs\\Kaggle Compitions\"\n",
    "submission.to_csv(folder+\"submission.csv\",index = False)\n",
    "\n",
    "submission.head()"
   ]
  },
  {
   "cell_type": "code",
   "execution_count": null,
   "metadata": {},
   "outputs": [],
   "source": []
  },
  {
   "cell_type": "code",
   "execution_count": 90,
   "metadata": {},
   "outputs": [
    {
     "data": {
      "text/html": [
       "<div>\n",
       "<style scoped>\n",
       "    .dataframe tbody tr th:only-of-type {\n",
       "        vertical-align: middle;\n",
       "    }\n",
       "\n",
       "    .dataframe tbody tr th {\n",
       "        vertical-align: top;\n",
       "    }\n",
       "\n",
       "    .dataframe thead th {\n",
       "        text-align: right;\n",
       "    }\n",
       "</style>\n",
       "<table border=\"1\" class=\"dataframe\">\n",
       "  <thead>\n",
       "    <tr style=\"text-align: right;\">\n",
       "      <th></th>\n",
       "      <th>Trip_Distance</th>\n",
       "      <th>Customer_Since_Months</th>\n",
       "      <th>Life_Style_Index</th>\n",
       "      <th>Customer_Rating</th>\n",
       "      <th>Cancellation_Last_1Month</th>\n",
       "      <th>Var2</th>\n",
       "      <th>Var3</th>\n",
       "    </tr>\n",
       "  </thead>\n",
       "  <tbody>\n",
       "    <tr>\n",
       "      <th>0</th>\n",
       "      <td>2.400506</td>\n",
       "      <td>1.0</td>\n",
       "      <td>1.353049</td>\n",
       "      <td>3.90500</td>\n",
       "      <td>0.000000</td>\n",
       "      <td>5.210789</td>\n",
       "      <td>5.684507</td>\n",
       "    </tr>\n",
       "    <tr>\n",
       "      <th>1</th>\n",
       "      <td>4.463191</td>\n",
       "      <td>10.0</td>\n",
       "      <td>1.472402</td>\n",
       "      <td>3.45000</td>\n",
       "      <td>0.000000</td>\n",
       "      <td>5.559490</td>\n",
       "      <td>6.172972</td>\n",
       "    </tr>\n",
       "    <tr>\n",
       "      <th>2</th>\n",
       "      <td>5.036128</td>\n",
       "      <td>10.0</td>\n",
       "      <td>1.477503</td>\n",
       "      <td>3.50125</td>\n",
       "      <td>1.194318</td>\n",
       "      <td>5.559490</td>\n",
       "      <td>6.148461</td>\n",
       "    </tr>\n",
       "    <tr>\n",
       "      <th>3</th>\n",
       "      <td>5.731380</td>\n",
       "      <td>10.0</td>\n",
       "      <td>1.477503</td>\n",
       "      <td>3.45375</td>\n",
       "      <td>0.000000</td>\n",
       "      <td>5.426781</td>\n",
       "      <td>6.073289</td>\n",
       "    </tr>\n",
       "    <tr>\n",
       "      <th>4</th>\n",
       "      <td>5.525440</td>\n",
       "      <td>10.0</td>\n",
       "      <td>1.551552</td>\n",
       "      <td>3.40250</td>\n",
       "      <td>1.820334</td>\n",
       "      <td>5.321541</td>\n",
       "      <td>6.694191</td>\n",
       "    </tr>\n",
       "  </tbody>\n",
       "</table>\n",
       "</div>"
      ],
      "text/plain": [
       "   Trip_Distance  Customer_Since_Months  Life_Style_Index  Customer_Rating  \\\n",
       "0       2.400506                    1.0          1.353049          3.90500   \n",
       "1       4.463191                   10.0          1.472402          3.45000   \n",
       "2       5.036128                   10.0          1.477503          3.50125   \n",
       "3       5.731380                   10.0          1.477503          3.45375   \n",
       "4       5.525440                   10.0          1.551552          3.40250   \n",
       "\n",
       "   Cancellation_Last_1Month      Var2      Var3  \n",
       "0                  0.000000  5.210789  5.684507  \n",
       "1                  0.000000  5.559490  6.172972  \n",
       "2                  1.194318  5.559490  6.148461  \n",
       "3                  0.000000  5.426781  6.073289  \n",
       "4                  1.820334  5.321541  6.694191  "
      ]
     },
     "execution_count": 90,
     "metadata": {},
     "output_type": "execute_result"
    }
   ],
   "source": [
    "num_data.head()"
   ]
  },
  {
   "cell_type": "code",
   "execution_count": 91,
   "metadata": {},
   "outputs": [],
   "source": [
    "from sklearn.preprocessing import StandardScaler\n",
    "\n",
    "std = StandardScaler()\n",
    "std_data = std.fit_transform(num_data)\n",
    "std_data = pd.DataFrame(std_data, columns = num_data.columns)"
   ]
  },
  {
   "cell_type": "code",
   "execution_count": 92,
   "metadata": {},
   "outputs": [],
   "source": [
    "from sklearn.preprocessing import PolynomialFeatures\n",
    "\n",
    "poly = PolynomialFeatures()\n",
    "poly_data = poly.fit_transform(num_data)\n",
    "poly_data = pd.DataFrame(poly_data)"
   ]
  },
  {
   "cell_type": "code",
   "execution_count": 93,
   "metadata": {},
   "outputs": [],
   "source": [
    "from sklearn.decomposition import PCA\n",
    "\n",
    "pca = PCA(n_components=4)\n",
    "pca_data = pca.fit_transform(num_data)\n",
    "pca_data = pd.DataFrame(pca_data, columns = [\"pc1\",\"pc2\",\"pc3\",\"pc4\"])"
   ]
  },
  {
   "cell_type": "code",
   "execution_count": 94,
   "metadata": {},
   "outputs": [
    {
     "data": {
      "text/plain": [
       "(219057, 47)"
      ]
     },
     "execution_count": 94,
     "metadata": {},
     "output_type": "execute_result"
    }
   ],
   "source": [
    "second_num_data = pd.concat([std_data,pca_data,poly_data], axis = 1)\n",
    "second_num_data.shape"
   ]
  },
  {
   "cell_type": "code",
   "execution_count": 95,
   "metadata": {},
   "outputs": [
    {
     "data": {
      "text/plain": [
       "(219057, 22)"
      ]
     },
     "execution_count": 95,
     "metadata": {},
     "output_type": "execute_result"
    }
   ],
   "source": [
    "cat_dummies.shape"
   ]
  },
  {
   "cell_type": "code",
   "execution_count": 96,
   "metadata": {},
   "outputs": [
    {
     "data": {
      "text/plain": [
       "(219057, 47)"
      ]
     },
     "execution_count": 96,
     "metadata": {},
     "output_type": "execute_result"
    }
   ],
   "source": [
    "second_num_data.shape"
   ]
  },
  {
   "cell_type": "code",
   "execution_count": 97,
   "metadata": {},
   "outputs": [],
   "source": [
    "second_num_data.reset_index(drop=True, inplace=True)\n",
    "cat_dummies.reset_index(drop=True, inplace=True)\n",
    "numerical_data = pd.concat([second_num_data], axis = 1)"
   ]
  },
  {
   "cell_type": "code",
   "execution_count": 99,
   "metadata": {},
   "outputs": [
    {
     "data": {
      "text/plain": [
       "(87395, 69)"
      ]
     },
     "execution_count": 99,
     "metadata": {},
     "output_type": "execute_result"
    }
   ],
   "source": [
    "second_num_data.reset_index(drop=True, inplace=True)\n",
    "cat_dummies.reset_index(drop=True, inplace=True)\n",
    "new_data = pd.concat([second_num_data,cat_dummies], axis = 1)\n",
    "data_train = new_data[:df_train.shape[0]]\n",
    "data_test = new_data[df_train.shape[0]:]\n",
    "data_test.shape"
   ]
  },
  {
   "cell_type": "code",
   "execution_count": 101,
   "metadata": {},
   "outputs": [
    {
     "data": {
      "image/png": "[encoded data removed]",
      "text/plain": [
       "<Figure size 504x360 with 1 Axes>"
      ]
     },
     "metadata": {
      "needs_background": "light"
     },
     "output_type": "display_data"
    }
   ],
   "source": [
    "plt.figure(figsize=(7,5))\n",
    "sns.barplot(df_train.Type_of_Cab, df_train.Surge_Pricing_Type)\n",
    "plt.show()"
   ]
  },
  {
   "cell_type": "code",
   "execution_count": 103,
   "metadata": {},
   "outputs": [],
   "source": [
    "X = data_train\n",
    "Y = df_train[\"Surge_Pricing_Type\"]\n",
    "\n",
    "from sklearn.model_selection import train_test_split\n",
    "\n",
    "train_x,test_x,train_y,test_y = train_test_split(X,Y,test_size = 0.33, stratify = Y, random_state = 100)"
   ]
  },
  {
   "cell_type": "code",
   "execution_count": 110,
   "metadata": {},
   "outputs": [
    {
     "data": {
      "text/plain": [
       "((131662, 69), (88213, 69), (88213,))"
      ]
     },
     "execution_count": 110,
     "metadata": {},
     "output_type": "execute_result"
    }
   ],
   "source": [
    "X.shape,train_x.shape,train_y.shape"
   ]
  },
  {
   "cell_type": "code",
   "execution_count": 104,
   "metadata": {},
   "outputs": [
    {
     "data": {
      "text/html": [
       "<div>\n",
       "<style scoped>\n",
       "    .dataframe tbody tr th:only-of-type {\n",
       "        vertical-align: middle;\n",
       "    }\n",
       "\n",
       "    .dataframe tbody tr th {\n",
       "        vertical-align: top;\n",
       "    }\n",
       "\n",
       "    .dataframe thead th {\n",
       "        text-align: right;\n",
       "    }\n",
       "</style>\n",
       "<table border=\"1\" class=\"dataframe\">\n",
       "  <thead>\n",
       "    <tr style=\"text-align: right;\">\n",
       "      <th></th>\n",
       "      <th>Trip_Distance</th>\n",
       "      <th>Customer_Since_Months</th>\n",
       "      <th>Life_Style_Index</th>\n",
       "      <th>Customer_Rating</th>\n",
       "      <th>Cancellation_Last_1Month</th>\n",
       "      <th>Var2</th>\n",
       "      <th>Var3</th>\n",
       "      <th>pc1</th>\n",
       "      <th>pc2</th>\n",
       "      <th>pc3</th>\n",
       "      <th>...</th>\n",
       "      <th>Destination_Type_F</th>\n",
       "      <th>Destination_Type_G</th>\n",
       "      <th>Destination_Type_H</th>\n",
       "      <th>Destination_Type_I</th>\n",
       "      <th>Destination_Type_J</th>\n",
       "      <th>Destination_Type_K</th>\n",
       "      <th>Destination_Type_L</th>\n",
       "      <th>Destination_Type_M</th>\n",
       "      <th>Destination_Type_N</th>\n",
       "      <th>Gender_Male</th>\n",
       "    </tr>\n",
       "  </thead>\n",
       "  <tbody>\n",
       "    <tr>\n",
       "      <th>107899</th>\n",
       "      <td>0.773716</td>\n",
       "      <td>1.127008</td>\n",
       "      <td>0.718293</td>\n",
       "      <td>1.077994</td>\n",
       "      <td>1.299114</td>\n",
       "      <td>0.809841</td>\n",
       "      <td>0.740457</td>\n",
       "      <td>-4.008859</td>\n",
       "      <td>-0.322618</td>\n",
       "      <td>-1.255602</td>\n",
       "      <td>...</td>\n",
       "      <td>0</td>\n",
       "      <td>0</td>\n",
       "      <td>0</td>\n",
       "      <td>0</td>\n",
       "      <td>0</td>\n",
       "      <td>0</td>\n",
       "      <td>0</td>\n",
       "      <td>0</td>\n",
       "      <td>0</td>\n",
       "      <td>1</td>\n",
       "    </tr>\n",
       "    <tr>\n",
       "      <th>2863</th>\n",
       "      <td>-0.744174</td>\n",
       "      <td>-1.130266</td>\n",
       "      <td>0.098061</td>\n",
       "      <td>-0.478935</td>\n",
       "      <td>0.460360</td>\n",
       "      <td>0.208004</td>\n",
       "      <td>-0.306644</td>\n",
       "      <td>4.027303</td>\n",
       "      <td>0.458836</td>\n",
       "      <td>0.703123</td>\n",
       "      <td>...</td>\n",
       "      <td>0</td>\n",
       "      <td>0</td>\n",
       "      <td>0</td>\n",
       "      <td>0</td>\n",
       "      <td>0</td>\n",
       "      <td>0</td>\n",
       "      <td>0</td>\n",
       "      <td>0</td>\n",
       "      <td>0</td>\n",
       "      <td>1</td>\n",
       "    </tr>\n",
       "    <tr>\n",
       "      <th>58746</th>\n",
       "      <td>0.796858</td>\n",
       "      <td>-0.001629</td>\n",
       "      <td>0.207898</td>\n",
       "      <td>-0.266163</td>\n",
       "      <td>-0.860484</td>\n",
       "      <td>0.612340</td>\n",
       "      <td>-0.591500</td>\n",
       "      <td>-0.030827</td>\n",
       "      <td>-0.892272</td>\n",
       "      <td>-0.022776</td>\n",
       "      <td>...</td>\n",
       "      <td>0</td>\n",
       "      <td>0</td>\n",
       "      <td>0</td>\n",
       "      <td>0</td>\n",
       "      <td>0</td>\n",
       "      <td>0</td>\n",
       "      <td>0</td>\n",
       "      <td>0</td>\n",
       "      <td>0</td>\n",
       "      <td>0</td>\n",
       "    </tr>\n",
       "    <tr>\n",
       "      <th>100521</th>\n",
       "      <td>-0.274051</td>\n",
       "      <td>-1.694585</td>\n",
       "      <td>0.515920</td>\n",
       "      <td>1.362114</td>\n",
       "      <td>0.460360</td>\n",
       "      <td>1.196013</td>\n",
       "      <td>2.566149</td>\n",
       "      <td>6.024549</td>\n",
       "      <td>0.365009</td>\n",
       "      <td>-1.117012</td>\n",
       "      <td>...</td>\n",
       "      <td>0</td>\n",
       "      <td>0</td>\n",
       "      <td>0</td>\n",
       "      <td>0</td>\n",
       "      <td>0</td>\n",
       "      <td>0</td>\n",
       "      <td>0</td>\n",
       "      <td>0</td>\n",
       "      <td>0</td>\n",
       "      <td>0</td>\n",
       "    </tr>\n",
       "    <tr>\n",
       "      <th>2063</th>\n",
       "      <td>-0.246096</td>\n",
       "      <td>-0.001629</td>\n",
       "      <td>-1.534178</td>\n",
       "      <td>-0.202459</td>\n",
       "      <td>-0.860484</td>\n",
       "      <td>-1.551510</td>\n",
       "      <td>-1.406125</td>\n",
       "      <td>0.017385</td>\n",
       "      <td>0.233213</td>\n",
       "      <td>0.241280</td>\n",
       "      <td>...</td>\n",
       "      <td>0</td>\n",
       "      <td>0</td>\n",
       "      <td>0</td>\n",
       "      <td>0</td>\n",
       "      <td>0</td>\n",
       "      <td>0</td>\n",
       "      <td>0</td>\n",
       "      <td>0</td>\n",
       "      <td>0</td>\n",
       "      <td>1</td>\n",
       "    </tr>\n",
       "  </tbody>\n",
       "</table>\n",
       "<p>5 rows × 69 columns</p>\n",
       "</div>"
      ],
      "text/plain": [
       "        Trip_Distance  Customer_Since_Months  Life_Style_Index  \\\n",
       "107899       0.773716               1.127008          0.718293   \n",
       "2863        -0.744174              -1.130266          0.098061   \n",
       "58746        0.796858              -0.001629          0.207898   \n",
       "100521      -0.274051              -1.694585          0.515920   \n",
       "2063        -0.246096              -0.001629         -1.534178   \n",
       "\n",
       "        Customer_Rating  Cancellation_Last_1Month      Var2      Var3  \\\n",
       "107899         1.077994                  1.299114  0.809841  0.740457   \n",
       "2863          -0.478935                  0.460360  0.208004 -0.306644   \n",
       "58746         -0.266163                 -0.860484  0.612340 -0.591500   \n",
       "100521         1.362114                  0.460360  1.196013  2.566149   \n",
       "2063          -0.202459                 -0.860484 -1.551510 -1.406125   \n",
       "\n",
       "             pc1       pc2       pc3  ...  Destination_Type_F  \\\n",
       "107899 -4.008859 -0.322618 -1.255602  ...                   0   \n",
       "2863    4.027303  0.458836  0.703123  ...                   0   \n",
       "58746  -0.030827 -0.892272 -0.022776  ...                   0   \n",
       "100521  6.024549  0.365009 -1.117012  ...                   0   \n",
       "2063    0.017385  0.233213  0.241280  ...                   0   \n",
       "\n",
       "        Destination_Type_G  Destination_Type_H  Destination_Type_I  \\\n",
       "107899                   0                   0                   0   \n",
       "2863                     0                   0                   0   \n",
       "58746                    0                   0                   0   \n",
       "100521                   0                   0                   0   \n",
       "2063                     0                   0                   0   \n",
       "\n",
       "        Destination_Type_J  Destination_Type_K  Destination_Type_L  \\\n",
       "107899                   0                   0                   0   \n",
       "2863                     0                   0                   0   \n",
       "58746                    0                   0                   0   \n",
       "100521                   0                   0                   0   \n",
       "2063                     0                   0                   0   \n",
       "\n",
       "        Destination_Type_M  Destination_Type_N  Gender_Male  \n",
       "107899                   0                   0            1  \n",
       "2863                     0                   0            1  \n",
       "58746                    0                   0            0  \n",
       "100521                   0                   0            0  \n",
       "2063                     0                   0            1  \n",
       "\n",
       "[5 rows x 69 columns]"
      ]
     },
     "execution_count": 104,
     "metadata": {},
     "output_type": "execute_result"
    }
   ],
   "source": [
    "train_x.head()"
   ]
  },
  {
   "cell_type": "code",
   "execution_count": 111,
   "metadata": {},
   "outputs": [
    {
     "name": "stdout",
     "output_type": "stream",
     "text": [
      "Train Accuracy is 0.7160282498044506\n",
      "Test Accuracy is 0.6998780179060508\n",
      "Classification Report For Test Data is\n",
      "              precision    recall  f1-score   support\n",
      "\n",
      "           1       0.75      0.55      0.64      8981\n",
      "           2       0.67      0.79      0.73     18720\n",
      "           3       0.72      0.68      0.70     15748\n",
      "\n",
      "    accuracy                           0.70     43449\n",
      "   macro avg       0.71      0.67      0.69     43449\n",
      "weighted avg       0.70      0.70      0.70     43449\n",
      "\n"
     ]
    }
   ],
   "source": [
    "from xgboost import XGBClassifier\n",
    "model = XGBClassifier(n_estimators=300, learning_rate=0.1, max_depth=4,objective = \"multi:softmax\")\n",
    "model.fit(train_x,train_y)\n",
    "pred_train = model.predict(train_x)\n",
    "print(f\"Train Accuracy is {accuracy_score(train_y,pred_train)}\")\n",
    "pred_test = model.predict(test_x)\n",
    "print(f\"Test Accuracy is {accuracy_score(test_y,pred_test)}\")\n",
    "print(f\"Classification Report For Test Data is\\n{classification_report(test_y,pred_test)}\")"
   ]
  },
  {
   "cell_type": "code",
   "execution_count": 112,
   "metadata": {},
   "outputs": [
    {
     "data": {
      "text/plain": [
       "(array([ 0,  1,  2,  3,  4,  5,  6,  7,  8,  9, 10, 11, 12, 13, 14, 15, 16,\n",
       "        17, 18, 19, 20, 21, 22, 23, 24, 25, 26, 27, 28, 29, 30, 31, 32, 33,\n",
       "        34, 35, 36, 37, 38, 39, 40, 41, 42, 43, 44, 45, 46, 47, 48, 49, 50,\n",
       "        51, 52, 53, 54, 55, 56, 57, 58, 59, 60, 61, 62, 63, 64, 65, 66, 67,\n",
       "        68]),\n",
       " <a list of 69 Text major ticklabel objects>)"
      ]
     },
     "execution_count": 112,
     "metadata": {},
     "output_type": "execute_result"
    },
    {
     "data": {
      "image/png": "[encoded data removed]",
      "text/plain": [
       "<Figure size 1440x720 with 1 Axes>"
      ]
     },
     "metadata": {
      "needs_background": "light"
     },
     "output_type": "display_data"
    }
   ],
   "source": [
    "plt.figure(figsize=(20,10))\n",
    "sns.barplot(X.columns,model.feature_importances_)\n",
    "plt.xticks(rotation = 90)"
   ]
  },
  {
   "cell_type": "code",
   "execution_count": null,
   "metadata": {},
   "outputs": [],
   "source": [
    "red_train = model.predict(X)\n",
    "print(f\"Train Accuracy is {accuracy_score(Y,pred_train)}\")\n",
    "pred_test = model.predict(data_test)"
   ]
  },
  {
   "cell_type": "code",
   "execution_count": null,
   "metadata": {},
   "outputs": [],
   "source": [
    "submission = pd.DataFrame()\n",
    "submission[\"Trip_ID\"] = df1[\"Trip_ID\"]\n",
    "submission[\"Surge_Pricing_Type\"] = pred_test\n",
    "folder = \"D:\\Data Science Python Programs\\Kaggle Compitions\"\n",
    "submission.to_csv(folder+\"submission.csv\",index = False)\n",
    "\n",
    "submission.head()"
   ]
  },
  {
   "cell_type": "markdown",
   "metadata": {},
   "source": [
    "### Connect With Me in Linkedin :- https://www.linkedin.com/in/dheerajkumar1997/"
   ]
  }
 ],
 "metadata": {
  "kernelspec": {
   "display_name": "Python 3",
   "language": "python",
   "name": "python3"
  },
  "language_info": {
   "codemirror_mode": {
    "name": "ipython",
    "version": 3
   },
   "file_extension": ".py",
   "mimetype": "text/x-python",
   "name": "python",
   "nbconvert_exporter": "python",
   "pygments_lexer": "ipython3",
   "version": "3.7.7"
  }
 },
 "nbformat": 4,
 "nbformat_minor": 4
}
